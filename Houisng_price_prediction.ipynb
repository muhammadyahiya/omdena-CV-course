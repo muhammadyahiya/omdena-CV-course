{
  "cells": [
    {
      "cell_type": "code",
      "execution_count": null,
      "metadata": {
        "id": "ZxD2UnWWT2bu"
      },
      "outputs": [],
      "source": [
        "# Import the required modules\n",
        "import tensorflow as tf\n",
        "import numpy as np\n",
        "from tensorflow import keras\n"
      ]
    },
    {
      "cell_type": "markdown",
      "metadata": {
        "id": "wqUvldJ4T4hm"
      },
      "source": [
        "# build a neural network that predicts the price of a house according to a simple formula.\n"
      ]
    },
    {
      "cell_type": "code",
      "execution_count": null,
      "metadata": {
        "id": "x4kJl1eMT8hf"
      },
      "outputs": [],
      "source": [
        "#A Sequential model is appropriate for a plain stack of layers where each layer has exactly one input tensor and one output tensor.\n",
        "\n",
        "model = tf.keras.Sequential([keras.layers.Dense(units=1, input_shape=[1])]) \n"
      ]
    },
    {
      "cell_type": "markdown",
      "metadata": {
        "id": "wjGGBO5ZUC1g"
      },
      "source": [
        "#The compile() method: specifying a loss, metrics, and an optimizer\n",
        "#To train a model with fit(), you need to specify a loss function, an optimizer, and optionally, some metrics to monitor.\n",
        "\n",
        "#You pass these to the model as arguments to the compile() method:\n",
        "\n",
        "\n",
        "# model.compile(\n",
        "#     optimizer=keras.optimizers.RMSprop(learning_rate=1e-3),\n",
        "#     loss=keras.losses.SparseCategoricalCrossentropy(),\n",
        "#     metrics=[keras.metrics.SparseCategoricalAccuracy()],\n",
        "# )\n"
      ]
    },
    {
      "cell_type": "code",
      "execution_count": null,
      "metadata": {
        "id": "fZnnhDjDUTc-"
      },
      "outputs": [],
      "source": [
        "model.compile(optimizer='sgd', loss='mean_squared_error')"
      ]
    },
    {
      "cell_type": "code",
      "execution_count": null,
      "metadata": {
        "id": "OGTc_hg0UH2f"
      },
      "outputs": [],
      "source": [
        "xs = np.array([1.0, 2.0, 3.0, 4.0, 5.0, 6.0], dtype=float) # values are for no. of bedrooms\n"
      ]
    },
    {
      "cell_type": "code",
      "execution_count": null,
      "metadata": {
        "colab": {
          "background_save": true
        },
        "id": "AAo1yeOXVDiU"
      },
      "outputs": [],
      "source": [
        "#So, imagine if house pricing was as easy as a house costs 50k + 50k per bedroom, so that a 1 bedroom house costs 100k, a 2 bedroom house costs 150k etc.\n",
        "ys = np.array([100.0, 150.0, 200.0, 250.0, 300.0, 350.0], dtype=float)   \n"
      ]
    },
    {
      "cell_type": "code",
      "execution_count": null,
      "metadata": {
        "id": "BnqoIjMcVQHF"
      },
      "outputs": [],
      "source": [
        "#We call fit(), which will train the model by slicing the data into \"batches\" of size batch_size, and repeatedly iterating over the entire dataset for a given number of epochs.\n",
        "\n",
        "model.fit(xs, ys, epochs=1000)\n"
      ]
    },
    {
      "cell_type": "code",
      "execution_count": null,
      "metadata": {
        "id": "nz_FunMnVaM3"
      },
      "outputs": [],
      "source": [
        "\n",
        "print(model.predict([7.0]))"
      ]
    },
    {
      "cell_type": "code",
      "execution_count": null,
      "metadata": {
        "id": "Yf7a8b5bVhsk"
      },
      "outputs": [],
      "source": [
        "#How would you create a neural network that learns this relationship so that it would predict a 7 bedroom house as costing close to 400k etc.\n",
        "\n",
        "print('A house with %d bedrooms will worth about %fk' % (7, model.predict([7.0])))"
      ]
    },
    {
      "cell_type": "markdown",
      "source": [
        "#complete code"
      ],
      "metadata": {
        "id": "IbYJrTzriHVB"
      }
    },
    {
      "cell_type": "code",
      "source": [
        "import tensorflow as tf\n",
        "import numpy as np\n",
        "from tensorflow import keras\n",
        "model = tf.keras.Sequential([keras.layers.Dense(units=1, input_shape=[1])]) \n",
        "model.compile(optimizer='sgd', loss='mean_squared_error')\n",
        "xs = np.array([1.0, 2.0, 3.0, 4.0, 5.0, 6.0], dtype=float)\n",
        "ys = np.array([100.0, 150.0, 200.0, 250.0, 300.0, 350.0], dtype=float)   \n",
        "model.fit(xs, ys, epochs=1000)\n",
        "print(model.predict([7.0]))\n",
        "\n"
      ],
      "metadata": {
        "id": "H58DyrX7iGPQ"
      },
      "execution_count": null,
      "outputs": []
    },
    {
      "cell_type": "markdown",
      "source": [
        "#practice"
      ],
      "metadata": {
        "id": "oiqDgZ2Qh_T1"
      }
    },
    {
      "cell_type": "code",
      "source": [
        "import tensorflow as tf\n",
        "import numpy as np\n",
        "from tensorflow import keras\n",
        "model = # Your Code Here#\n",
        "model.compile(# Your Code Here#)\n",
        "xs = # Your Code Here#\n",
        "ys = # Your Code Here#\n",
        "model.fit(# Your Code here#)\n",
        "print(model.predict([7.0]))"
      ],
      "metadata": {
        "id": "BIWoK5c1h-SV"
      },
      "execution_count": null,
      "outputs": []
    }
  ],
  "metadata": {
    "colab": {
      "name": "Houisng-price-prediction.ipynb",
      "provenance": []
    },
    "kernelspec": {
      "display_name": "Python 3",
      "name": "python3"
    },
    "language_info": {
      "name": "python"
    }
  },
  "nbformat": 4,
  "nbformat_minor": 0
}